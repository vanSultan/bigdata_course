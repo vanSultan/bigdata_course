{
 "cells": [
  {
   "cell_type": "code",
   "execution_count": 1,
   "outputs": [],
   "source": [
    "import os\n",
    "import socket\n",
    "from pyspark import SparkConf, SparkContext, SQLContext\n",
    "from pyspark.sql import SparkSession\n",
    "from pyspark.sql.window import Window\n",
    "from pyspark.sql.functions import udf, length, when, col, lit, broadcast\n",
    "from pyspark.sql.types import BooleanType, IntegerType, LongType, StringType, ArrayType, FloatType, StructType, StructField\n",
    "from pyspark.sql.functions import pandas_udf\n",
    "from pyspark.sql.functions import PandasUDFType\n",
    "from pyspark import StorageLevel\n",
    "from jinja2 import Environment, FileSystemLoader\n",
    "\n",
    "from pyspark.sql.functions import * # count, desc, size, explode, arrays_zip, regexp_extract"
   ],
   "metadata": {
    "collapsed": false,
    "pycharm": {
     "name": "#%%\n",
     "is_executing": false
    }
   }
  },
  {
   "cell_type": "code",
   "execution_count": 2,
   "outputs": [],
   "source": [
    "from emoji import get_emoji_regexp, unicode_codes\n",
    "import re"
   ],
   "metadata": {
    "collapsed": false,
    "pycharm": {
     "name": "#%%\n",
     "is_executing": false
    }
   }
  },
  {
   "cell_type": "code",
   "execution_count": 3,
   "outputs": [],
   "source": [
    "# setting constants\n",
    "APP_NAME = \"YOUR_APP_NAME\"\n",
    "NORMALIZED_APP_NAME = APP_NAME.replace('/', '_').replace(':', '_')\n",
    "\n",
    "APPS_TMP_DIR = os.path.join(os.getcwd(), \"tmp\")\n",
    "APPS_CONF_DIR = os.path.join(os.getcwd(), \"conf\")\n",
    "APPS_LOGS_DIR = os.path.join(os.getcwd(), \"logs\")\n",
    "LOG4J_PROP_FILE = os.path.join(APPS_CONF_DIR, \"pyspark-log4j-{}.properties\".format(NORMALIZED_APP_NAME))\n",
    "LOG_FILE = os.path.join(APPS_LOGS_DIR, 'pyspark-{}.log'.format(NORMALIZED_APP_NAME))\n",
    "EXTRA_JAVA_OPTIONS = \"-Dlog4j.configuration=file://{} -Dspark.hadoop.dfs.replication=1 -Dhttps.protocols=TLSv1.0,TLSv1.1,TLSv1.2,TLSv1.3\"\\\n",
    "    .format(LOG4J_PROP_FILE)\n",
    "\n",
    "LOCAL_IP = socket.gethostbyname(socket.gethostname())"
   ],
   "metadata": {
    "collapsed": false,
    "pycharm": {
     "name": "#%%\n",
     "is_executing": false
    }
   }
  },
  {
   "cell_type": "code",
   "execution_count": 4,
   "outputs": [],
   "source": [
    "# preparing configuration files from templates\n",
    "for directory in [APPS_CONF_DIR, APPS_LOGS_DIR, APPS_TMP_DIR]:\n",
    "    if not os.path.exists(directory):\n",
    "        os.makedirs(directory)\n",
    "\n",
    "env = Environment(loader=FileSystemLoader('/opt'))\n",
    "template = env.get_template(\"pyspark_log4j.properties.template\")\n",
    "template\\\n",
    "    .stream(logfile=LOG_FILE)\\\n",
    "    .dump(LOG4J_PROP_FILE)"
   ],
   "metadata": {
    "collapsed": false,
    "pycharm": {
     "name": "#%%\n",
     "is_executing": false
    }
   }
  },
  {
   "cell_type": "code",
   "execution_count": 5,
   "outputs": [],
   "source": [
    "# run spark\n",
    "spark = SparkSession\\\n",
    "    .builder\\\n",
    "    .appName(APP_NAME)\\\n",
    "    .master(\"k8s://https://10.32.7.103:6443\")\\\n",
    "    .config(\"spark.driver.host\", LOCAL_IP)\\\n",
    "    .config(\"spark.ui.port\", \"4040\")\\\n",
    "    .config(\"spark.kubernetes.memoryOverheadFactor\", \"0.6\")\\\n",
    "    .config(\"spark.driver.memory\", \"4g\")\\\n",
    "    .config(\"spark.driver.bindAddress\", \"0.0.0.0\")\\\n",
    "    .config(\"spark.executor.instances\", \"5\")\\\n",
    "    .config(\"spark.executor.cores\", '4')\\\n",
    "    .config(\"spark.executor.memory\", \"5g\")\\\n",
    "    .config(\"spark.memory.fraction\", \"0.6\")\\\n",
    "    .config(\"spark.memory.storageFraction\", \"0.5\")\\\n",
    "    .config(\"spark.sql.autoBroadcastJoinThreshold\", \"-1\")\\\n",
    "    .config(\"spark.driver.extraJavaOptions\", EXTRA_JAVA_OPTIONS)\\\n",
    "    .config(\"spark.kubernetes.namespace\", \"szhumabaev-307617\")\\\n",
    "    .config(\"spark.kubernetes.driver.label.appname\", APP_NAME)\\\n",
    "    .config(\"spark.kubernetes.executor.label.appname\", APP_NAME)\\\n",
    "    .config(\"spark.kubernetes.container.image.pullPolicy\", \"Always\")\\\n",
    "    .config(\"spark.kubernetes.container.image\", \"node03.st:5000/spark-executor:szhumabaev-307617\")\\\n",
    "    .config(\"spark.kubernetes.executor.deleteOnTermination\", \"true\")\\\n",
    "    .config(\"spark.local.dir\", \"/tmp/spark\")\\\n",
    "    .getOrCreate()"
   ],
   "metadata": {
    "collapsed": false,
    "pycharm": {
     "name": "#%%\n",
     "is_executing": false
    }
   }
  },
  {
   "cell_type": "code",
   "execution_count": 6,
   "outputs": [
    {
     "data": {
      "text/plain": "'3.1.1'"
     },
     "metadata": {},
     "output_type": "execute_result",
     "execution_count": 6
    }
   ],
   "source": [
    "spark.version"
   ],
   "metadata": {
    "collapsed": false,
    "pycharm": {
     "name": "#%%\n",
     "is_executing": false
    }
   }
  },
  {
   "cell_type": "markdown",
   "source": [
    "## Task 1\n",
    "\n",
    "Find the top 20 posts in the group: \n",
    "* by likes; \n",
    "* by comments; \n",
    "* by reposts."
   ],
   "metadata": {
    "collapsed": false,
    "pycharm": {
     "name": "#%% md\n"
    }
   }
  },
  {
   "cell_type": "code",
   "execution_count": 7,
   "outputs": [
    {
     "name": "stdout",
     "text": [
      "18430\n"
     ],
     "output_type": "stream"
    }
   ],
   "source": [
    "posts_df = spark.read.json(\"/shared/bigdata20/posts_api.json\")\\\n",
    "    .select(\n",
    "        col(\"id\").alias(\"post_id\"), col(\"likes.count\").alias(\"cnt_likes\"), \n",
    "        col(\"comments.count\").alias(\"cnt_comments\"), col(\"reposts.count\").alias(\"cnt_reposts\"), \"text\"\n",
    "    )\n",
    "\n",
    "print(posts_df.count())  # 18 430"
   ],
   "metadata": {
    "collapsed": false,
    "pycharm": {
     "name": "#%%\n",
     "is_executing": false
    }
   }
  },
  {
   "cell_type": "code",
   "execution_count": 8,
   "outputs": [
    {
     "name": "stdout",
     "text": [
      "+-------+---------+\n",
      "|post_id|cnt_likes|\n",
      "+-------+---------+\n",
      "|  32022|     1637|\n",
      "|  35068|     1629|\n",
      "|  17492|     1516|\n",
      "|  18526|     1026|\n",
      "|  19552|      955|\n",
      "|  41468|      952|\n",
      "|  19419|      868|\n",
      "|  29046|      824|\n",
      "|  32546|      786|\n",
      "|  24085|      765|\n",
      "|  40180|      759|\n",
      "|  33658|      708|\n",
      "|  13532|      633|\n",
      "|  40842|      631|\n",
      "|  35117|      588|\n",
      "|  17014|      581|\n",
      "|  19583|      553|\n",
      "|  19809|      552|\n",
      "|  27455|      550|\n",
      "|  11999|      549|\n",
      "+-------+---------+\n",
      "only showing top 20 rows\n",
      "\n"
     ],
     "output_type": "stream"
    }
   ],
   "source": [
    "# by likes\n",
    "posts_df.select(\"post_id\", \"cnt_likes\").orderBy(desc(\"cnt_likes\")).show()"
   ],
   "metadata": {
    "collapsed": false,
    "pycharm": {
     "name": "#%%\n",
     "is_executing": false
    }
   }
  },
  {
   "cell_type": "code",
   "execution_count": 9,
   "outputs": [
    {
     "name": "stdout",
     "text": [
      "+-------+------------+\n",
      "|post_id|cnt_comments|\n",
      "+-------+------------+\n",
      "|  24085|         850|\n",
      "|  22540|         250|\n",
      "|  27722|         192|\n",
      "|   8285|         148|\n",
      "|  26860|         113|\n",
      "|  13571|         107|\n",
      "|  39294|         104|\n",
      "|  36680|          96|\n",
      "|  26006|          92|\n",
      "|  41739|          92|\n",
      "|  12426|          91|\n",
      "|  21499|          88|\n",
      "|  39163|          83|\n",
      "|  39407|          83|\n",
      "|  11267|          81|\n",
      "|  31548|          80|\n",
      "|  11158|          70|\n",
      "|  39082|          67|\n",
      "|  14602|          61|\n",
      "|  12687|          61|\n",
      "+-------+------------+\n",
      "only showing top 20 rows\n",
      "\n"
     ],
     "output_type": "stream"
    }
   ],
   "source": [
    "# by comments\n",
    "posts_df.select(\"post_id\", \"cnt_comments\").orderBy(desc(\"cnt_comments\")).show()"
   ],
   "metadata": {
    "collapsed": false,
    "pycharm": {
     "name": "#%%\n",
     "is_executing": false
    }
   }
  },
  {
   "cell_type": "code",
   "execution_count": 10,
   "outputs": [
    {
     "name": "stdout",
     "text": [
      "+-------+-----------+\n",
      "|post_id|cnt_reposts|\n",
      "+-------+-----------+\n",
      "|  17492|        334|\n",
      "|  19552|        246|\n",
      "|  32022|        210|\n",
      "|  11842|        129|\n",
      "|  19419|        126|\n",
      "|  13532|        110|\n",
      "|  17014|        105|\n",
      "|  35068|        101|\n",
      "|  41266|         92|\n",
      "|  12593|         90|\n",
      "|  29046|         87|\n",
      "|  41468|         85|\n",
      "|  11999|         85|\n",
      "|  19809|         84|\n",
      "|  17167|         81|\n",
      "|  10833|         78|\n",
      "|  18543|         77|\n",
      "|  16596|         76|\n",
      "|  18156|         74|\n",
      "|  37262|         71|\n",
      "+-------+-----------+\n",
      "only showing top 20 rows\n",
      "\n"
     ],
     "output_type": "stream"
    }
   ],
   "source": [
    "# by reposts\n",
    "posts_df.select(\"post_id\", \"cnt_reposts\").orderBy(desc(\"cnt_reposts\")).show()"
   ],
   "metadata": {
    "collapsed": false,
    "pycharm": {
     "name": "#%%\n",
     "is_executing": false
    }
   }
  },
  {
   "cell_type": "markdown",
   "source": [
    "## Task 2\n",
    "\n",
    "Find the top 20 users by (a) likes and (b) reposts they have made (to trace reposts use \"*copy_history*\" field)"
   ],
   "metadata": {
    "collapsed": false,
    "pycharm": {
     "name": "#%% md\n"
    }
   }
  },
  {
   "cell_type": "code",
   "execution_count": 11,
   "outputs": [
    {
     "name": "stdout",
     "text": [
      "+---------+---------+\n",
      "|  user_id|cnt_posts|\n",
      "+---------+---------+\n",
      "|  2070090|     4801|\n",
      "|  2397858|     2055|\n",
      "|  1475301|     1829|\n",
      "|    18239|     1569|\n",
      "|   546612|     1245|\n",
      "|     6371|      907|\n",
      "|  1841959|      746|\n",
      "| 78440957|      709|\n",
      "|   120248|      699|\n",
      "| 40981497|      611|\n",
      "|    22158|      553|\n",
      "|207628162|      548|\n",
      "|329377723|      504|\n",
      "| 76071304|      474|\n",
      "| 14805173|      440|\n",
      "|   317799|      385|\n",
      "| 56355640|      375|\n",
      "| 52042971|      338|\n",
      "|  7437271|      336|\n",
      "|136506644|      335|\n",
      "+---------+---------+\n",
      "only showing top 20 rows\n",
      "\n"
     ],
     "output_type": "stream"
    }
   ],
   "source": [
    "# by likes\n",
    "\n",
    "spark.read.parquet(\"/shared/bigdata20/posts_likes.parquet\")\\\n",
    "    .groupBy(col(\"likerId\").alias(\"user_id\")).agg(count(\"itemId\").alias(\"cnt_posts\"))\\\n",
    "    .orderBy(desc(\"cnt_posts\")).show()"
   ],
   "metadata": {
    "collapsed": false,
    "pycharm": {
     "name": "#%%\n",
     "is_executing": false
    }
   }
  },
  {
   "cell_type": "code",
   "execution_count": 12,
   "outputs": [
    {
     "name": "stdout",
     "text": [
      "+---------+-----------+\n",
      "|  user_id|cnt_reposts|\n",
      "+---------+-----------+\n",
      "|  2547211|      37742|\n",
      "|357231922|      23349|\n",
      "|168543860|      18429|\n",
      "| 25646344|      11122|\n",
      "|176861294|       9022|\n",
      "|524656784|       7242|\n",
      "|    29840|       7164|\n",
      "|143207077|       7161|\n",
      "|141687240|       6804|\n",
      "|459339006|       6741|\n",
      "|514384760|       6570|\n",
      "|483715951|       6052|\n",
      "|445159771|       5808|\n",
      "|451211328|       5646|\n",
      "|426396104|       5533|\n",
      "|  8325325|       5532|\n",
      "|452280411|       5458|\n",
      "|464220898|       5318|\n",
      "|440454268|       5304|\n",
      "|461319529|       5240|\n",
      "+---------+-----------+\n",
      "only showing top 20 rows\n",
      "\n"
     ],
     "output_type": "stream"
    }
   ],
   "source": [
    "# by reposts\n",
    "\n",
    "spark.read.json(\"/shared/bigdata20/followers_posts_api_final.json\")\\\n",
    "    .where(\"copy_history is not null\")\\\n",
    "    .select(\n",
    "        col(\"owner_id\").alias(\"user_id\"),\n",
    "        col(\"copy_history.id\").getItem(0).alias(\"src_post_id\"),\n",
    "        col(\"copy_history.owner_id\").getItem(0).alias(\"src_owner_id\")\n",
    "    ).groupBy(\"user_id\").agg(count(\"src_post_id\").alias(\"cnt_reposts\"))\\\n",
    "    .orderBy(desc(\"cnt_reposts\")).show()"
   ],
   "metadata": {
    "collapsed": false,
    "pycharm": {
     "name": "#%%\n",
     "is_executing": false
    }
   }
  },
  {
   "cell_type": "markdown",
   "source": [
    "## Task 3\n",
    "\n",
    "Get reposts of the original posts of the itmo group (*posts.json*) from user posts \n",
    "(the result should be similar to (*group_post_id*, *Array(user_post_ids)*))"
   ],
   "metadata": {
    "collapsed": false,
    "pycharm": {
     "name": "#%% md\n",
     "is_executing": false
    }
   }
  },
  {
   "cell_type": "code",
   "execution_count": 13,
   "outputs": [
    {
     "name": "stdout",
     "text": [
      "+-------------+--------------------+-----------+\n",
      "|group_post_id|       user_post_ids|cnt_reposts|\n",
      "+-------------+--------------------+-----------+\n",
      "|        41266|[1150, 235, 452, ...|         30|\n",
      "|        41468|[1931, 5408, 440,...|         25|\n",
      "|        42482|[4205, 713, 1542,...|         10|\n",
      "|        40090|[463, 1325, 349, ...|          9|\n",
      "|        38740|[1060, 1133, 185,...|          8|\n",
      "|        39259|[10810, 10683, 12...|          8|\n",
      "|        41207|[2960, 10610, 128...|          6|\n",
      "|        41546|[666, 3908, 7005,...|          6|\n",
      "|        41721|[3810, 2801, 1089...|          6|\n",
      "|        38963|[3720, 6403, 814,...|          5|\n",
      "|        39682|[384, 159, 600, 3...|          5|\n",
      "|        41506|[397, 398, 12823,...|          5|\n",
      "|        38915|[1186, 18054, 448...|          4|\n",
      "|        39294|[4516, 2319, 4718...|          4|\n",
      "|        39515|[7390, 443, 2321,...|          4|\n",
      "|        39686|[182, 3370, 4741,...|          4|\n",
      "|        41108|[182, 366, 10483,...|          4|\n",
      "|        41708|[10107, 5112, 708...|          4|\n",
      "|        42730|[5561, 6840, 4201...|          4|\n",
      "|        38730|  [9523, 2590, 8187]|          3|\n",
      "+-------------+--------------------+-----------+\n",
      "only showing top 20 rows\n",
      "\n"
     ],
     "output_type": "stream"
    }
   ],
   "source": [
    "spark.read.json(\"/shared/bigdata20/followers_posts_api_final.json\")\\\n",
    "    .where(\"copy_history is not null\")\\\n",
    "    .select(\n",
    "        col(\"id\").alias(\"user_post_id\"), \n",
    "        col(\"copy_history.id\").getItem(0).alias(\"group_post_id\"),\n",
    "        col(\"copy_history.owner_id\").getItem(0).alias(\"post_owner_id\")\n",
    "    ).join(\n",
    "        spark.read.json(\"/shared/bigdata20/posts_api.json\")\n",
    "            .select(col(\"id\").alias(\"group_post_id\"), col(\"owner_id\").alias(\"post_owner_id\")), \n",
    "        [\"post_owner_id\", \"group_post_id\"]\n",
    "    ).groupBy(\"group_post_id\").agg(collect_list(\"user_post_id\").alias(\"user_post_ids\"))\\\n",
    "    .withColumn(\"cnt_reposts\", size(\"user_post_ids\"))\\\n",
    "    .orderBy(desc(\"cnt_reposts\"), \"group_post_id\").show()"
   ],
   "metadata": {
    "collapsed": false,
    "pycharm": {
     "name": "#%%\n",
     "is_executing": false
    }
   }
  },
  {
   "cell_type": "markdown",
   "source": [
    "## Task 4\n",
    "\n",
    "Find emoticons in posts, calculate their overall count, \n",
    "frequency (number of posts they can be found in) and average count per post. \n",
    "\n",
    "* print top 10 most popular emoticons;\n",
    "* print top 5 emoticons which have the greatest difference between their overall count and frequency; \n",
    "* print top 5 emoticons with average count per post.\n",
    "\n",
    "\n",
    "Note: you can use external libraries or predefined emoticon lists\n",
    "\n",
    "Note: build an UDF from your code for emoticon checking to use it with pyspark"
   ],
   "metadata": {
    "collapsed": false,
    "pycharm": {
     "name": "#%% md\n"
    }
   }
  },
  {
   "cell_type": "code",
   "execution_count": 14,
   "outputs": [],
   "source": [
    "reg_exp = get_emoji_regexp()\n",
    "unicode_emoji = unicode_codes.UNICODE_EMOJI[\"en\"]\n",
    "\n",
    "@udf(returnType=ArrayType(StringType()))\n",
    "def emoji_udf(text_col):\n",
    "    _entities = []\n",
    "    for match in reg_exp.finditer(text_col):\n",
    "        _entities.append(match.group())\n",
    "    return _entities\n",
    "\n",
    "@udf\n",
    "def demojize_udf(text_col):    \n",
    "    def replace(match):\n",
    "        val = unicode_emoji.get(match.group(0), match.group(0))\n",
    "        return \":\" + val[1:-1] + \":\"\n",
    "\n",
    "    return re.sub(u'\\ufe0f', '', (reg_exp.sub(replace, text_col)))"
   ],
   "metadata": {
    "collapsed": false,
    "pycharm": {
     "name": "#%%\n",
     "is_executing": false
    }
   }
  },
  {
   "cell_type": "code",
   "execution_count": 15,
   "outputs": [],
   "source": [
    "emoji_df = spark.read.json(\"/shared/bigdata20/posts_api.json\")\\\n",
    "    .where(\"text <> ''\").select(\"id\", \"text\")\\\n",
    "    .withColumn(\"emoticons\", emoji_udf(col(\"text\")))\\\n",
    "    .where(\"size(emoticons) > 0\")\\\n",
    "    .select(\"id\", lit(demojize_udf(col(\"emoji\"))).alias(\"demojize\"), explode(\"emoticons\").alias(\"emoji\"))\\\n",
    "    .groupBy(\"demojize\", \"emoji\").agg(\n",
    "        count(\"id\").alias(\"cnt_all\"),\n",
    "        countDistinct(\"id\").alias(\"frequency\"),\n",
    "    ).withColumn(\"avg_cnt_per_post\", round(col(\"cnt_all\") / col(\"frequency\"), 3))\\\n",
    "    .withColumn(\"diff\", col(\"cnt_all\") - col(\"frequency\"))"
   ],
   "metadata": {
    "collapsed": false,
    "pycharm": {
     "name": "#%%\n",
     "is_executing": false
    }
   }
  },
  {
   "cell_type": "code",
   "execution_count": 16,
   "outputs": [
    {
     "data": {
      "text/plain": "                 demojize emoji  cnt_all\n0                  :fire:     🔥       76\n1          :high_voltage:     ⚡       68\n2         :round_pushpin:     📍       63\n3                :rocket:     🚀       50\n4             :red_heart:     ❤       47\n5  :red_exclamation_mark:     ❗       45\n6            :down_arrow:     ⬇       40\n7           :blue_circle:     🔵       40\n8            :check_mark:     ✔       40\n9            :blue_heart:     💙       38",
      "text/html": "<div>\n<style scoped>\n    .dataframe tbody tr th:only-of-type {\n        vertical-align: middle;\n    }\n\n    .dataframe tbody tr th {\n        vertical-align: top;\n    }\n\n    .dataframe thead th {\n        text-align: right;\n    }\n</style>\n<table border=\"1\" class=\"dataframe\">\n  <thead>\n    <tr style=\"text-align: right;\">\n      <th></th>\n      <th>demojize</th>\n      <th>emoji</th>\n      <th>cnt_all</th>\n    </tr>\n  </thead>\n  <tbody>\n    <tr>\n      <th>0</th>\n      <td>:fire:</td>\n      <td>🔥</td>\n      <td>76</td>\n    </tr>\n    <tr>\n      <th>1</th>\n      <td>:high_voltage:</td>\n      <td>⚡</td>\n      <td>68</td>\n    </tr>\n    <tr>\n      <th>2</th>\n      <td>:round_pushpin:</td>\n      <td>📍</td>\n      <td>63</td>\n    </tr>\n    <tr>\n      <th>3</th>\n      <td>:rocket:</td>\n      <td>🚀</td>\n      <td>50</td>\n    </tr>\n    <tr>\n      <th>4</th>\n      <td>:red_heart:</td>\n      <td>❤</td>\n      <td>47</td>\n    </tr>\n    <tr>\n      <th>5</th>\n      <td>:red_exclamation_mark:</td>\n      <td>❗</td>\n      <td>45</td>\n    </tr>\n    <tr>\n      <th>6</th>\n      <td>:down_arrow:</td>\n      <td>⬇</td>\n      <td>40</td>\n    </tr>\n    <tr>\n      <th>7</th>\n      <td>:blue_circle:</td>\n      <td>🔵</td>\n      <td>40</td>\n    </tr>\n    <tr>\n      <th>8</th>\n      <td>:check_mark:</td>\n      <td>✔</td>\n      <td>40</td>\n    </tr>\n    <tr>\n      <th>9</th>\n      <td>:blue_heart:</td>\n      <td>💙</td>\n      <td>38</td>\n    </tr>\n  </tbody>\n</table>\n</div>"
     },
     "metadata": {},
     "output_type": "execute_result",
     "execution_count": 16
    }
   ],
   "source": [
    "# print top 10 most popular emoticons\n",
    "\n",
    "emoji_df.select(\"demojize\", \"emoji\", \"cnt_all\")\\\n",
    "    .orderBy(desc(\"cnt_all\")).limit(10).toPandas()"
   ],
   "metadata": {
    "collapsed": false,
    "pycharm": {
     "name": "#%%\n",
     "is_executing": false
    }
   }
  },
  {
   "cell_type": "code",
   "execution_count": 17,
   "outputs": [
    {
     "data": {
      "text/plain": "                 demojize emoji  diff\n0            :check_mark:     ✔    31\n1  :red_exclamation_mark:     ❗    25\n2         :round_pushpin:     📍    24\n3            :down_arrow:     ⬇    24\n4          :high_voltage:     ⚡    23",
      "text/html": "<div>\n<style scoped>\n    .dataframe tbody tr th:only-of-type {\n        vertical-align: middle;\n    }\n\n    .dataframe tbody tr th {\n        vertical-align: top;\n    }\n\n    .dataframe thead th {\n        text-align: right;\n    }\n</style>\n<table border=\"1\" class=\"dataframe\">\n  <thead>\n    <tr style=\"text-align: right;\">\n      <th></th>\n      <th>demojize</th>\n      <th>emoji</th>\n      <th>diff</th>\n    </tr>\n  </thead>\n  <tbody>\n    <tr>\n      <th>0</th>\n      <td>:check_mark:</td>\n      <td>✔</td>\n      <td>31</td>\n    </tr>\n    <tr>\n      <th>1</th>\n      <td>:red_exclamation_mark:</td>\n      <td>❗</td>\n      <td>25</td>\n    </tr>\n    <tr>\n      <th>2</th>\n      <td>:round_pushpin:</td>\n      <td>📍</td>\n      <td>24</td>\n    </tr>\n    <tr>\n      <th>3</th>\n      <td>:down_arrow:</td>\n      <td>⬇</td>\n      <td>24</td>\n    </tr>\n    <tr>\n      <th>4</th>\n      <td>:high_voltage:</td>\n      <td>⚡</td>\n      <td>23</td>\n    </tr>\n  </tbody>\n</table>\n</div>"
     },
     "metadata": {},
     "output_type": "execute_result",
     "execution_count": 17
    }
   ],
   "source": [
    "# print top 5 emoticons which have the greatest difference between their overall count and frequency\n",
    "\n",
    "emoji_df.select(\"demojize\", \"emoji\", \"diff\")\\\n",
    "    .orderBy(desc(\"diff\")).limit(5).toPandas()"
   ],
   "metadata": {
    "collapsed": false,
    "pycharm": {
     "name": "#%%\n",
     "is_executing": false
    }
   }
  },
  {
   "cell_type": "code",
   "execution_count": 18,
   "outputs": [
    {
     "data": {
      "text/plain": "               demojize emoji  avg_cnt_per_post\n0          :check_mark:     ✔             4.444\n1  :small_blue_diamond:     🔹             4.286\n2  :black_small_square:     ▪             4.200\n3           :black_nib:     ✒             3.500\n4       :oncoming_taxi:     🚖             3.000",
      "text/html": "<div>\n<style scoped>\n    .dataframe tbody tr th:only-of-type {\n        vertical-align: middle;\n    }\n\n    .dataframe tbody tr th {\n        vertical-align: top;\n    }\n\n    .dataframe thead th {\n        text-align: right;\n    }\n</style>\n<table border=\"1\" class=\"dataframe\">\n  <thead>\n    <tr style=\"text-align: right;\">\n      <th></th>\n      <th>demojize</th>\n      <th>emoji</th>\n      <th>avg_cnt_per_post</th>\n    </tr>\n  </thead>\n  <tbody>\n    <tr>\n      <th>0</th>\n      <td>:check_mark:</td>\n      <td>✔</td>\n      <td>4.444</td>\n    </tr>\n    <tr>\n      <th>1</th>\n      <td>:small_blue_diamond:</td>\n      <td>🔹</td>\n      <td>4.286</td>\n    </tr>\n    <tr>\n      <th>2</th>\n      <td>:black_small_square:</td>\n      <td>▪</td>\n      <td>4.200</td>\n    </tr>\n    <tr>\n      <th>3</th>\n      <td>:black_nib:</td>\n      <td>✒</td>\n      <td>3.500</td>\n    </tr>\n    <tr>\n      <th>4</th>\n      <td>:oncoming_taxi:</td>\n      <td>🚖</td>\n      <td>3.000</td>\n    </tr>\n  </tbody>\n</table>\n</div>"
     },
     "metadata": {},
     "output_type": "execute_result",
     "execution_count": 18
    }
   ],
   "source": [
    "# print top 5 emoticons with average count per post\n",
    "\n",
    "emoji_df.select(\"demojize\", \"emoji\", \"avg_cnt_per_post\")\\\n",
    "    .orderBy(desc(\"avg_cnt_per_post\")).limit(5).toPandas()"
   ],
   "metadata": {
    "collapsed": false,
    "pycharm": {
     "name": "#%%\n",
     "is_executing": false
    }
   }
  },
  {
   "cell_type": "markdown",
   "source": [
    "## Task 5\n",
    "\n",
    "Probable *\"fans\"*. Find for each user the top 10 other users whose posts this user likes."
   ],
   "metadata": {
    "collapsed": false,
    "pycharm": {
     "name": "#%% md\n"
    }
   }
  },
  {
   "cell_type": "code",
   "execution_count": 19,
   "outputs": [
    {
     "name": "stdout",
     "text": [
      "+---------+---------+---+---+\n",
      "|  ownerId|  likerId|cnt|top|\n",
      "+---------+---------+---+---+\n",
      "|331271681|566943808|  2|  1|\n",
      "| 23380429|566924016|  1|  1|\n",
      "|  5786733|566921437|  1|  1|\n",
      "|     1087|566920553|  1|  1|\n",
      "|  5786733|566916469|  1|  1|\n",
      "|   222923|566900723|  1|  1|\n",
      "| 20224097|566895285|  1|  1|\n",
      "| 62234805|566895285|  1|  2|\n",
      "|  1536597|566892214|  1|  1|\n",
      "|121780041|566892214|  1|  2|\n",
      "|180124822|566890516|  1|  1|\n",
      "|  3581627|566882374|  1|  1|\n",
      "|   479142|566874253|  1|  1|\n",
      "|187877260|566868012|  1|  1|\n",
      "|534742309|566862000|  2|  1|\n",
      "| 16861388|566856410|  1|  1|\n",
      "|276887938|566834379|  1|  1|\n",
      "|   368107|566834334|  1|  1|\n",
      "|220846414|566833175|  1|  1|\n",
      "|139509646|566816578|  1|  1|\n",
      "+---------+---------+---+---+\n",
      "only showing top 20 rows\n",
      "\n"
     ],
     "output_type": "stream"
    }
   ],
   "source": [
    "fans_df = spark.read.parquet(\"/shared/bigdata20/followers_posts_likes.parquet\")\\\n",
    "    .withColumn(\"cnt\", count(\"itemId\").over(Window.partitionBy(\"ownerId\", \"likerId\")))\\\n",
    "    .select(\"ownerId\", \"likerId\", \"cnt\").distinct()\\\n",
    "    .withColumn(\"top\", row_number().over(Window.partitionBy(\"likerId\").orderBy(desc(\"cnt\"), \"ownerId\")))\\\n",
    "    .where(\"top <= 10\")\n",
    "\n",
    "fans_df.orderBy(desc(\"likerId\"), \"top\").show()"
   ],
   "metadata": {
    "collapsed": false,
    "pycharm": {
     "name": "#%%\n",
     "is_executing": false
    }
   }
  },
  {
   "cell_type": "markdown",
   "source": [
    "## Task 6\n",
    "\n",
    "Probable friends. If two users like each other posts they may be friends. \n",
    "\n",
    "Find pairs of users where both users are top likers of each other."
   ],
   "metadata": {
    "collapsed": false,
    "pycharm": {
     "name": "#%% md\n"
    }
   }
  },
  {
   "cell_type": "code",
   "execution_count": 20,
   "outputs": [
    {
     "name": "stdout",
     "text": [
      "+---------+---------+\n",
      "|   user_1|   user_r|\n",
      "+---------+---------+\n",
      "| 95578891|152590008|\n",
      "|387540163|387540163|\n",
      "| 87779884|145291328|\n",
      "| 70730078| 71427292|\n",
      "|291661975|291661975|\n",
      "|   817770|  3420917|\n",
      "|450562601|450562601|\n",
      "|  6282600|  6801684|\n",
      "| 20224097|101096378|\n",
      "|120618620|234528324|\n",
      "|327790230|327790230|\n",
      "| 42247975| 42247975|\n",
      "| 44770563|103229751|\n",
      "| 45266920|188264983|\n",
      "|229861638|229861638|\n",
      "| 95356919| 95356919|\n",
      "|214298116|214298116|\n",
      "|320690911|320690911|\n",
      "|379134974|379134974|\n",
      "|470163231|470163231|\n",
      "+---------+---------+\n",
      "only showing top 20 rows\n",
      "\n"
     ],
     "output_type": "stream"
    }
   ],
   "source": [
    "user_df_1 = fans_df.where(\"top = 1\")\\\n",
    "    .select(col(\"ownerId\").alias(\"user_1\"), col(\"likerId\").alias(\"user_2\")).distinct()\n",
    "\n",
    "user_df_2 = fans_df.where(\"top = 1\")\\\n",
    "    .select(col(\"ownerId\").alias(\"user_2\"), col(\"likerId\").alias(\"user_1\")).distinct()\n",
    "\n",
    "user_df_1.join(user_df_2, [\"user_1\", \"user_2\"]).where(\"user_1 <> user_2\")\\\n",
    "    .withColumn(\"user_l\", least(col(\"user_1\"), col(\"user_2\")))\\\n",
    "    .withColumn(\"user_r\", greatest(col(\"user_1\"), col(\"user_2\")))\\\n",
    "    .select(\"user_1\", \"user_r\").show()"
   ],
   "metadata": {
    "collapsed": false,
    "pycharm": {
     "name": "#%%\n",
     "is_executing": false
    }
   }
  },
  {
   "cell_type": "code",
   "execution_count": 21,
   "outputs": [],
   "source": [
    "spark.stop()"
   ],
   "metadata": {
    "collapsed": false,
    "pycharm": {
     "name": "#%%\n",
     "is_executing": false
    }
   }
  }
 ],
 "metadata": {
  "kernelspec": {
   "display_name": "Python 3",
   "language": "python",
   "name": "python3"
  },
  "language_info": {
   "codemirror_mode": {
    "name": "ipython",
    "version": 2
   },
   "file_extension": ".py",
   "mimetype": "text/x-python",
   "name": "python",
   "nbconvert_exporter": "python",
   "pygments_lexer": "ipython2",
   "version": "2.7.6"
  },
  "pycharm": {
   "stem_cell": {
    "cell_type": "raw",
    "source": [],
    "metadata": {
     "collapsed": false
    }
   }
  }
 },
 "nbformat": 4,
 "nbformat_minor": 0
}