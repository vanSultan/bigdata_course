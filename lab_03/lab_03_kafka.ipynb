{
 "cells": [
  {
   "cell_type": "code",
   "execution_count": 1,
   "outputs": [],
   "source": [
    "from kafka import KafkaProducer\n",
    "\n",
    "row_count = 2000"
   ],
   "metadata": {
    "collapsed": false,
    "pycharm": {
     "name": "#%%\n",
     "is_executing": false
    }
   }
  },
  {
   "cell_type": "code",
   "execution_count": 2,
   "outputs": [],
   "source": [
    "!head -{row_count} ~/shared-data/clickhouse_data/followers.json > ~/sample_followers.json"
   ],
   "metadata": {
    "collapsed": false,
    "pycharm": {
     "name": "#%%\n",
     "is_executing": false
    }
   }
  },
  {
   "cell_type": "code",
   "execution_count": 3,
   "outputs": [
    {
     "name": "stdout",
     "text": [
      "Sent 2000"
     ],
     "output_type": "stream"
    }
   ],
   "source": [
    "followers_producer = KafkaProducer(\n",
    "    bootstrap_servers=\"kafka-svc:9092\", \n",
    "    value_serializer=str.encode\n",
    ")\n",
    "followers_topic = \"topic-followers\"\n",
    "\n",
    "with open(\"sample_followers.json\") as f_src:\n",
    "    for i, line in enumerate(f_src.readlines()):\n",
    "        followers_producer.send(followers_topic, line)\n",
    "        print(f\"\\rSent {i + 1}\", end=str())"
   ],
   "metadata": {
    "collapsed": false,
    "pycharm": {
     "name": "#%%\n",
     "is_executing": false
    }
   }
  },
  {
   "cell_type": "code",
   "execution_count": 4,
   "outputs": [],
   "source": [
    "!head -{row_count} ~/shared-data/clickhouse_data/friends.json > ~/sample_friends.json"
   ],
   "metadata": {
    "collapsed": false,
    "pycharm": {
     "name": "#%%\n",
     "is_executing": false
    }
   }
  },
  {
   "cell_type": "code",
   "execution_count": 5,
   "outputs": [
    {
     "name": "stdout",
     "text": [
      "Sent 2000"
     ],
     "output_type": "stream"
    }
   ],
   "source": [
    "friends_producer = KafkaProducer(\n",
    "    bootstrap_servers=\"kafka-svc:9092\", \n",
    "    value_serializer=str.encode\n",
    ")\n",
    "friends_topic = \"topic-friends\"\n",
    "\n",
    "with open(\"sample_friends.json\") as f_src:\n",
    "    for i, line in enumerate(f_src.readlines()):\n",
    "        friends_producer.send(friends_topic, line)\n",
    "        print(f\"\\rSent {i + 1}\", end=str())"
   ],
   "metadata": {
    "collapsed": false,
    "pycharm": {
     "name": "#%%\n",
     "is_executing": false
    }
   }
  },
  {
   "cell_type": "code",
   "execution_count": 5,
   "outputs": [],
   "source": [
    "!head -{row_count} ~/shared-data/clickhouse_data/likes.json > ~/sample_likes.json"
   ],
   "metadata": {
    "collapsed": false,
    "pycharm": {
     "name": "#%%\n",
     "is_executing": false
    }
   }
  },
  {
   "cell_type": "code",
   "execution_count": 6,
   "outputs": [
    {
     "name": "stdout",
     "text": [
      "Sent 2000"
     ],
     "output_type": "stream"
    }
   ],
   "source": [
    "likes_producer = KafkaProducer(\n",
    "    bootstrap_servers=\"kafka-svc:9092\", \n",
    "    value_serializer=str.encode\n",
    ")\n",
    "likes_topic = \"topic-likes\"\n",
    "\n",
    "with open(\"sample_likes.json\") as f_src:\n",
    "    for i, line in enumerate(f_src.readlines()):\n",
    "        likes_producer.send(likes_topic, line)\n",
    "        print(f\"\\rSent {i + 1}\", end=str())"
   ],
   "metadata": {
    "collapsed": false,
    "pycharm": {
     "name": "#%%\n",
     "is_executing": false
    }
   }
  },
  {
   "cell_type": "code",
   "execution_count": 2,
   "outputs": [],
   "source": [
    "!head -{row_count} ~/shared-data/clickhouse_data/posts.json > ~/sample_posts.json"
   ],
   "metadata": {
    "collapsed": false,
    "pycharm": {
     "name": "#%%\n",
     "is_executing": false
    }
   }
  },
  {
   "cell_type": "code",
   "execution_count": 4,
   "outputs": [
    {
     "name": "stdout",
     "text": [
      "Sent 2000"
     ],
     "output_type": "stream"
    }
   ],
   "source": [
    "posts_producer = KafkaProducer(\n",
    "    bootstrap_servers=\"kafka-svc:9092\", \n",
    "    value_serializer=str.encode\n",
    ")\n",
    "posts_topic = \"topic-posts\"\n",
    "\n",
    "with open(\"sample_posts.json\") as f_src:\n",
    "    for i, line in enumerate(f_src.readlines()):\n",
    "        posts_producer.send(posts_topic, line)\n",
    "        print(f\"\\rSent {i + 1}\", end=str())\n",
    "    "
   ],
   "metadata": {
    "collapsed": false,
    "pycharm": {
     "name": "#%%\n",
     "is_executing": false
    }
   }
  },
  {
   "cell_type": "code",
   "execution_count": 7,
   "outputs": [],
   "source": [
    "!head -{row_count} ~/shared-data/clickhouse_data/user_profiles.json > ~/sample_user_profiles.json"
   ],
   "metadata": {
    "collapsed": false,
    "pycharm": {
     "name": "#%%\n",
     "is_executing": false
    }
   }
  },
  {
   "cell_type": "code",
   "execution_count": 8,
   "outputs": [
    {
     "name": "stdout",
     "text": [
      "Sent 2000"
     ],
     "output_type": "stream"
    }
   ],
   "source": [
    "user_profiles_producer = KafkaProducer(\n",
    "    bootstrap_servers=\"kafka-svc:9092\", \n",
    "    value_serializer=str.encode\n",
    ")\n",
    "user_profiles_topic = \"topic-user-profiles\"\n",
    "\n",
    "with open(\"sample_user_profiles.json\") as f_src:\n",
    "    for i, line in enumerate(f_src.readlines()):\n",
    "        user_profiles_producer.send(user_profiles_topic, line)\n",
    "        print(f\"\\rSent {i + 1}\", end=str())"
   ],
   "metadata": {
    "collapsed": false,
    "pycharm": {
     "name": "#%%\n",
     "is_executing": false
    }
   }
  }
 ],
 "metadata": {
  "kernelspec": {
   "display_name": "Python 3",
   "language": "python",
   "name": "python3"
  },
  "language_info": {
   "codemirror_mode": {
    "name": "ipython",
    "version": 2
   },
   "file_extension": ".py",
   "mimetype": "text/x-python",
   "name": "python",
   "nbconvert_exporter": "python",
   "pygments_lexer": "ipython2",
   "version": "2.7.6"
  },
  "pycharm": {
   "stem_cell": {
    "cell_type": "raw",
    "source": [],
    "metadata": {
     "collapsed": false
    }
   }
  }
 },
 "nbformat": 4,
 "nbformat_minor": 0
}